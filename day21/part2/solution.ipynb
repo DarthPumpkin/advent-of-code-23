{
 "cells": [
  {
   "cell_type": "code",
   "execution_count": 90,
   "metadata": {},
   "outputs": [],
   "source": [
    "from collections import deque\n",
    "from enum import Enum\n",
    "import itertools as it\n",
    "from typing import Sequence\n",
    "\n",
    "import matplotlib.pyplot as plt\n",
    "import numpy as np\n",
    "import tqdm"
   ]
  },
  {
   "cell_type": "code",
   "execution_count": 2,
   "metadata": {},
   "outputs": [],
   "source": [
    "with open('../input.txt') as fp:\n",
    "    lines = [line.rstrip('\\n') for line in fp]"
   ]
  },
  {
   "cell_type": "code",
   "execution_count": 33,
   "metadata": {},
   "outputs": [],
   "source": [
    "def parse_input(lines):\n",
    "    array = np.array([list(line) for line in lines])\n",
    "    locations = np.where(array == 'S')\n",
    "    locations = [(locations[0].item(), locations[1].item())]\n",
    "    locations = set(locations)\n",
    "    array[array == 'S'] = '.'  # Replace start with garden tile\n",
    "    return array, locations\n",
    "\n",
    "\n",
    "map, locations = parse_input(lines)\n",
    "center_loc = InfectionLocation.CENTER.resolve(*map.shape)\n",
    "assert np.all(map[center_loc[0], :] == '.')\n",
    "assert np.all(map[:, center_loc[1]] == '.')\n",
    "assert np.all(map[0, :] == '.')\n",
    "assert np.all(map[-1, :] == '.')\n",
    "assert np.all(map[:, 0] == '.')\n",
    "assert np.all(map[:, -1] == '.')"
   ]
  },
  {
   "cell_type": "code",
   "execution_count": 39,
   "metadata": {},
   "outputs": [
    {
     "data": {
      "text/plain": [
       "(131, 131)"
      ]
     },
     "execution_count": 39,
     "metadata": {},
     "output_type": "execute_result"
    }
   ],
   "source": [
    "map.shape"
   ]
  },
  {
   "cell_type": "code",
   "execution_count": 9,
   "metadata": {},
   "outputs": [
    {
     "name": "stdout",
     "output_type": "stream",
     "text": [
      "131\n"
     ]
    }
   ],
   "source": [
    "def step(input_array: np.ndarray, locations: set[tuple[int, int]]) -> set[tuple[int, int]]:\n",
    "    \"\"\"Perform one step of the simulation.\n",
    "    \n",
    "    Args:\n",
    "        input_array: The 2d input array (<U1 dtype).\n",
    "        locations_array: The set of possible locations.\n",
    "        \n",
    "    Returns:\n",
    "        The new set of possible locations.\"\"\"\n",
    "    height, width = input_array.shape\n",
    "    new_locations = set()\n",
    "    for location in locations:\n",
    "        i, j = location\n",
    "        # Check up\n",
    "        if i > 0 and input_array[i - 1, j] == '.':\n",
    "            new_locations.add((i - 1, j))\n",
    "        # Check right\n",
    "        if j < width - 1 and input_array[i, j + 1] == '.':\n",
    "            new_locations.add((i, j + 1))\n",
    "        # Check down\n",
    "        if i < height - 1 and input_array[i + 1, j] == '.':\n",
    "            new_locations.add((i + 1, j))\n",
    "        # Check left\n",
    "        if j > 0 and input_array[i, j - 1] == '.':\n",
    "            new_locations.add((i, j - 1))\n",
    "    return new_locations\n",
    "\n",
    "\n",
    "def simulate_cell(map: np.ndarray, locations: set[tuple[int, int]], nsteps: int) -> set[tuple[int, int]]:\n",
    "    for _ in range(nsteps):\n",
    "        locations = step(map, locations)\n",
    "    return locations\n",
    "\n",
    "\n",
    "def simulate_until_periodic(map: np.ndarray, locations: set[tuple[int, int]], period=2, maxsteps=1_000) -> tuple[Sequence[int], Sequence[set[tuple[int, int]]]]:\n",
    "    buffer = deque(maxlen=period)\n",
    "    sizes = [len(locations)]\n",
    "    # Fill buffer up to period length\n",
    "    buffer.append(locations)\n",
    "    for _ in range(period - 1):\n",
    "        locations = step(map, locations)\n",
    "        buffer.append(locations)\n",
    "        sizes.append(len(locations))\n",
    "    \n",
    "    for _ in range(maxsteps):\n",
    "        locations = step(map, locations)\n",
    "        if locations == buffer[0]:\n",
    "            break\n",
    "        buffer.append(locations)\n",
    "        sizes.append(len(locations))\n",
    "    else:\n",
    "        raise RuntimeError(f'Did not find periodicity within maxsteps={maxsteps} steps.')\n",
    "    return sizes, buffer\n",
    "\n",
    "\n",
    "infection_trajectory, period = simulate_until_periodic(map, locations)\n",
    "print(len(infection_trajectory))"
   ]
  },
  {
   "cell_type": "code",
   "execution_count": 19,
   "metadata": {},
   "outputs": [],
   "source": [
    "def time_until_start_of_infection(y: int, x: int, map_height: int, map_width: int) -> int:\n",
    "    \"\"\"Return the number of steps until the cell (y, x) is infected for the first time.\n",
    "    \n",
    "    Args:\n",
    "        y: The vertical coordinate of the cell relative to the starting cell (0=starting, -1=upper neighbor, etc.).\n",
    "        x: The horizontal coordinate of the cell relative to the starting cell (0=starting, -1=left neighbor, etc.).\n",
    "        map_height: The height of the map (odd).\n",
    "        map_width: The width of the map (odd).\n",
    "        \n",
    "    Returns:\n",
    "        The number of steps.\n",
    "    \"\"\"\n",
    "    return _tis_x(x, map_width) + _tis_y(y, map_height)\n",
    "\n",
    "\n",
    "def _tis_x(x: int, map_width: int) -> int:\n",
    "    h0 = map_width // 2\n",
    "    if x == 0:\n",
    "        return 0\n",
    "    else:\n",
    "        return h0 + 1 + (np.abs(x) - 1) * map_width\n",
    "\n",
    "def _tis_y(y: int, map_height: int) -> int:\n",
    "    w0 = map_height // 2\n",
    "    if y == 0:\n",
    "        return 0\n",
    "    else:\n",
    "        return w0 + 1 + (np.abs(y) - 1) * map_height"
   ]
  },
  {
   "cell_type": "code",
   "execution_count": 15,
   "metadata": {},
   "outputs": [],
   "source": [
    "class InfectionLocation(Enum):\n",
    "    \"\"\"The starting location of the infection.\"\"\"\n",
    "    CENTER = 0\n",
    "    TOP = 1\n",
    "    TOP_RIGHT = 2\n",
    "    RIGHT = 3\n",
    "    BOTTOM_RIGHT = 4\n",
    "    BOTTOM = 5\n",
    "    BOTTOM_LEFT = 6\n",
    "    LEFT = 7\n",
    "    TOP_LEFT = 8\n",
    "\n",
    "    def resolve(self, map_height, map_width) -> tuple[int, int]:\n",
    "        \"\"\"Return the absolute coordinate of the infection location within the map.\n",
    "        \n",
    "        Args:\n",
    "            map_height: The height of the map (odd).\n",
    "            map_width: The width of the map (odd).\n",
    "            \n",
    "        Returns:\n",
    "            The absolute coordinate (i, j).\n",
    "        \"\"\"\n",
    "        if self == InfectionLocation.CENTER:\n",
    "            return (map_height // 2, map_width // 2)\n",
    "        elif self == InfectionLocation.TOP:\n",
    "            return (0, map_width // 2)\n",
    "        elif self == InfectionLocation.TOP_RIGHT:\n",
    "            return (0, map_width - 1)\n",
    "        elif self == InfectionLocation.RIGHT:\n",
    "            return (map_height // 2, map_width - 1)\n",
    "        elif self == InfectionLocation.BOTTOM_RIGHT:\n",
    "            return (map_height - 1, map_width - 1)\n",
    "        elif self == InfectionLocation.BOTTOM:\n",
    "            return (map_height - 1, map_width // 2)\n",
    "        elif self == InfectionLocation.BOTTOM_LEFT:\n",
    "            return (map_height - 1, 0)\n",
    "        elif self == InfectionLocation.LEFT:\n",
    "            return (map_height // 2, 0)\n",
    "        elif self == InfectionLocation.TOP_LEFT:\n",
    "            return (0, 0)\n",
    "        else:\n",
    "            raise ValueError(f'Invalid infection location: {self}')\n",
    "    \n",
    "    \n",
    "def infection_location(y: int, x: int) -> InfectionLocation:\n",
    "    if x == 0:\n",
    "        if y > 0:\n",
    "            return InfectionLocation.TOP\n",
    "        elif y < 0:\n",
    "            return InfectionLocation.BOTTOM\n",
    "        else:\n",
    "            return InfectionLocation.CENTER\n",
    "    elif x > 0:\n",
    "        if y > 0:\n",
    "            return InfectionLocation.TOP_LEFT\n",
    "        elif y < 0:\n",
    "            return InfectionLocation.BOTTOM_LEFT\n",
    "        else:\n",
    "            return InfectionLocation.LEFT\n",
    "    else:\n",
    "        if y > 0:\n",
    "            return InfectionLocation.TOP_RIGHT\n",
    "        elif y < 0:\n",
    "            return InfectionLocation.BOTTOM_RIGHT\n",
    "        else:\n",
    "            return InfectionLocation.RIGHT\n",
    "\n",
    "\n",
    "infection_trajectories = {loc: simulate_until_periodic(map, set([loc.resolve(*map.shape)]))[0] for loc in InfectionLocation}\n",
    "time_until_fully_infected = {loc: len(infection_trajectories[loc]) - 2 for loc in InfectionLocation}"
   ]
  },
  {
   "cell_type": "code",
   "execution_count": 16,
   "metadata": {},
   "outputs": [
    {
     "data": {
      "text/plain": [
       "{<InfectionLocation.CENTER: 0>: 129,\n",
       " <InfectionLocation.TOP: 1>: 194,\n",
       " <InfectionLocation.TOP_RIGHT: 2>: 259,\n",
       " <InfectionLocation.RIGHT: 3>: 194,\n",
       " <InfectionLocation.BOTTOM_RIGHT: 4>: 259,\n",
       " <InfectionLocation.BOTTOM: 5>: 194,\n",
       " <InfectionLocation.BOTTOM_LEFT: 6>: 259,\n",
       " <InfectionLocation.LEFT: 7>: 194,\n",
       " <InfectionLocation.TOP_LEFT: 8>: 259}"
      ]
     },
     "execution_count": 16,
     "metadata": {},
     "output_type": "execute_result"
    }
   ],
   "source": [
    "time_until_fully_infected"
   ]
  },
  {
   "cell_type": "code",
   "execution_count": 17,
   "metadata": {},
   "outputs": [],
   "source": [
    "def infections_in_cell(y: int, x: int, t: int, map: np.ndarray) -> int:\n",
    "    \"\"\"Return the number of infections in cell (y, x) at time t.\n",
    "    \n",
    "    Args:\n",
    "        y: The vertical coordinate of the cell relative to the starting cell (0=starting, -1=upper neighbor, etc.).\n",
    "        x: The horizontal coordinate of the cell relative to the starting cell (0=starting, -1=left neighbor, etc.).\n",
    "        t: The number of steps taken.\n",
    "        map: The 2d map array.\n",
    "        \n",
    "    Returns:\n",
    "        The number of infections.\n",
    "    \"\"\"\n",
    "    tis = time_until_start_of_infection(y, x, *map.shape)\n",
    "    infection_location_ = infection_location(y, x)\n",
    "    tif = time_until_fully_infected[infection_location_]\n",
    "    if t < tis:\n",
    "        return 0\n",
    "    elif t < tis + tif:\n",
    "        return infection_trajectories[infection_location_][t - tis]\n",
    "    else:\n",
    "        t_since_end_of_infection = t - tis - tif\n",
    "        phase = t_since_end_of_infection % 2\n",
    "        return infection_trajectories[infection_location_][-2 + phase]"
   ]
  },
  {
   "cell_type": "code",
   "execution_count": 82,
   "metadata": {},
   "outputs": [
    {
     "name": "stdout",
     "output_type": "stream",
     "text": [
      "[1, 4, 9, 7330, 7250, 7334, 7250]\n",
      "[0, 1, 3, 7332, 7250, 7334, 7250]\n",
      "[0, 1, 2, 7333, 7250, 7334, 7250]\n"
     ]
    }
   ],
   "source": [
    "_ic = [infections_in_cell(0, 0, t, map) for t in (0, 1, 2, 128, 129, 130, 131)]\n",
    "print(_ic)\n",
    "\n",
    "_ic = [infections_in_cell(1, 0, t, map) for t in (65, 66, 67, 259, 260, 261, 262)]\n",
    "print(_ic)\n",
    "\n",
    "_ic = [infections_in_cell(-1, -2, t, map) for t in (262, 263, 264, 263 + 259 - 1, 263 + 259, 263 + 259 + 1, 263 + 259 + 2)]\n",
    "print(_ic)"
   ]
  },
  {
   "cell_type": "code",
   "execution_count": 106,
   "metadata": {},
   "outputs": [],
   "source": [
    "def total_infections_slow(T: int, map: np.ndarray, progress_bar=True) -> int:\n",
    "    \"\"\"Return the total number of infections after T steps.\n",
    "    \n",
    "    Args:\n",
    "        T: The number of steps.\n",
    "        map: The 2d map array.\n",
    "        \n",
    "    Returns:\n",
    "        The number of infections.\n",
    "    \"\"\"\n",
    "    H, W = map.shape\n",
    "    h_mod = H // 2 + 1\n",
    "    w_mod = W // 2 + 1\n",
    "    y_max = (T - h_mod) // H + 1\n",
    "    x_max = (T - w_mod) // W + 1\n",
    "    total = 0\n",
    "    iterable_ = cell_coordinates = it.product(range(-y_max, y_max + 1), range(-x_max, x_max + 1))\n",
    "    if progress_bar:\n",
    "        iterable_ = tqdm.tqdm(cell_coordinates, total=(2 * y_max + 1) * (2 * x_max + 1))\n",
    "    for y, x in iterable_:\n",
    "        total += infections_in_cell(y, x, T, map)\n",
    "    return total"
   ]
  },
  {
   "cell_type": "code",
   "execution_count": 108,
   "metadata": {},
   "outputs": [],
   "source": [
    "_infectionss_slow = [total_infections_slow(t, map, progress_bar=False) for t in range(1, 5001)]"
   ]
  },
  {
   "cell_type": "code",
   "execution_count": 115,
   "metadata": {},
   "outputs": [],
   "source": [
    "def count_fully_infected(T: int, y: int, map: np.ndarray) -> int:\n",
    "    \"\"\"Return the number of fully infected cells in row y after T steps.\n",
    "    \n",
    "    Args:\n",
    "        T: The number of steps.\n",
    "        y: The vertical coordinate of the cell relative to the starting cell (0=starting, -1=upper neighbor, etc.).\n",
    "        map: The 2d map array.\n",
    "        \n",
    "    Returns:\n",
    "        The number of fully infected cells.\n",
    "    \"\"\"\n",
    "    H, W = map.shape\n",
    "    w_mod = H // 2 + 1\n",
    "    tis_y = _tis_y(y, H)\n",
    "    if y != 0:\n",
    "        tif_zero = time_until_fully_infected[InfectionLocation.TOP]\n",
    "        tif_nonzero = time_until_fully_infected[InfectionLocation.TOP_RIGHT]\n",
    "    else:\n",
    "        tif_zero = time_until_fully_infected[InfectionLocation.CENTER]\n",
    "        tif_nonzero = time_until_fully_infected[InfectionLocation.RIGHT]\n",
    "    if T < tis_y + tif_zero:\n",
    "        return 0\n",
    "    elif T < tis_y + w_mod + tif_nonzero:\n",
    "        return 1\n",
    "    else:\n",
    "        largest_x = (T - tis_y - tif_nonzero - w_mod) // W + 1\n",
    "        return 2 * largest_x + 1\n",
    "\n",
    "\n",
    "def total_partially_infected(T: int, y: int, num_fully_infected: int, map: np.ndarray) -> int:\n",
    "    \"\"\"Return the total number of infections in partially infected cells in row y after T steps.\n",
    "    \n",
    "    Args:\n",
    "        T: The number of steps.\n",
    "        y: The vertical coordinate of the cell relative to the starting cell (0=starting, -1=upper neighbor, etc.).\n",
    "        num_fully_infected: The number of fully infected cells in row\n",
    "        map: The 2d map array.\n",
    "\n",
    "    Returns:\n",
    "        The number of partially infected cells.\n",
    "    \"\"\"\n",
    "    H, W = map.shape\n",
    "    w_mod = H // 2 + 1\n",
    "    tis_y = _tis_y(y, H)\n",
    "    if T < tis_y:\n",
    "        return 0\n",
    "    elif T < tis_y + w_mod:\n",
    "        largest_x = 0\n",
    "    else:\n",
    "        largest_x = (T - tis_y - w_mod) // W + 1\n",
    "\n",
    "    if num_fully_infected == 0:\n",
    "        lowest_x = 0\n",
    "    else:\n",
    "        lowest_x = (num_fully_infected - 1) // 2 + 1\n",
    "    partial_totals = 0\n",
    "    for x in range(lowest_x, largest_x + 1):\n",
    "        if x == 0:\n",
    "            partial_totals += infections_in_cell(y, x, T, map)\n",
    "        else:\n",
    "            partial_totals += infections_in_cell(y, x, T, map)\n",
    "            partial_totals += infections_in_cell(y, -x, T, map)\n",
    "    return partial_totals\n",
    "\n",
    "\n",
    "def total_infections(T: int, map: np.ndarray, progress_bar=True) -> int:\n",
    "    \"\"\"Return the total number of infections after T steps.\n",
    "    \n",
    "    Args:\n",
    "        T: The number of steps.\n",
    "        map: The 2d map array.\n",
    "        \n",
    "    Returns:\n",
    "        The number of infections.\n",
    "    \"\"\"\n",
    "    H, W = map.shape\n",
    "    h_mod = H // 2 + 1\n",
    "    y_max = (T - h_mod) // H + 1\n",
    "    ys = np.arange(-y_max, y_max + 1)\n",
    "    total = 0\n",
    "    iterator_ = tqdm.tqdm(ys) if progress_bar else ys\n",
    "    for y in iterator_:\n",
    "        total_01 = [infections_in_cell(y, 0, T, map), infections_in_cell(y, 1, T, map)]\n",
    "        num_fully_infected = count_fully_infected(T, y, map)\n",
    "        if num_fully_infected == 0:\n",
    "            num_even, num_odd = 0, 0\n",
    "        else:\n",
    "            num_positive = (num_fully_infected - 1) // 2\n",
    "            num_positive_odd = (num_positive + 1) // 2\n",
    "            num_odd = 2 * num_positive_odd\n",
    "            num_even = num_fully_infected - num_odd\n",
    "        total_fully_infected = total_01[0] * num_even + total_01[1] * num_odd\n",
    "        total += total_fully_infected + total_partially_infected(T, y, num_fully_infected, map)\n",
    "    return total"
   ]
  },
  {
   "cell_type": "code",
   "execution_count": 89,
   "metadata": {},
   "outputs": [
    {
     "name": "stdout",
     "output_type": "stream",
     "text": [
      "[0, 0, 1, 1, 1, 3, 3]\n",
      "[0, 1, 1, 1, 3, 3]\n"
     ]
    }
   ],
   "source": [
    "print([count_fully_infected(T=t, y=0, map=map) for t in (0, 128, 129, 130, 259, 260, 261)])\n",
    "_y = -10\n",
    "_n_moves = np.abs(_y) - 1\n",
    "print([count_fully_infected(T=t, y=-10, map=map) for t in (66 + _n_moves * 131 + 194 - 1,\n",
    "                                                           66 + _n_moves * 131 + 194,\n",
    "                                                           66 + _n_moves * 131 + 194 + 1,\n",
    "                                                           66 + _n_moves * 131 + 66 + 259 - 1,\n",
    "                                                           66 + _n_moves * 131 + 66 + 259,\n",
    "                                                           66 + _n_moves * 131 + 66 + 259 + 1,)])"
   ]
  },
  {
   "cell_type": "code",
   "execution_count": 116,
   "metadata": {},
   "outputs": [
    {
     "name": "stdout",
     "output_type": "stream",
     "text": [
      "[1, 4, 3617, 3703, 3879, 3965, 10665]\n",
      "[3557, 3561, 17819, 17999]\n",
      "[3557]\n"
     ]
    }
   ],
   "source": [
    "print([total_partially_infected(T=t, y=0, num_fully_infected=0, map=map) for t in (0, 1, 64, 65, 66, 67, 128)])\n",
    "print([total_partially_infected(T=t, y=0, num_fully_infected=1, map=map) for t in (129, 130, 66 + 194 - 2, 66 + 194 - 1)])\n",
    "print([total_partially_infected(T=t, y=0, num_fully_infected=3, map=map) for t in (66 + 194,)])"
   ]
  },
  {
   "cell_type": "code",
   "execution_count": 102,
   "metadata": {},
   "outputs": [
    {
     "name": "stderr",
     "output_type": "stream",
     "text": [
      "100%|██████████| 1/1 [00:00<00:00, 12671.61it/s]\n"
     ]
    },
    {
     "data": {
      "text/plain": [
       "4"
      ]
     },
     "execution_count": 102,
     "metadata": {},
     "output_type": "execute_result"
    }
   ],
   "source": [
    "total_infections(1, map)"
   ]
  },
  {
   "cell_type": "code",
   "execution_count": 122,
   "metadata": {},
   "outputs": [
    {
     "name": "stderr",
     "output_type": "stream",
     "text": [
      "100%|██████████| 404601/404601 [00:05<00:00, 74711.39it/s]\n"
     ]
    },
    {
     "data": {
      "text/plain": [
       "596857397104703"
      ]
     },
     "execution_count": 122,
     "metadata": {},
     "output_type": "execute_result"
    }
   ],
   "source": [
    "T_actual = 26501365\n",
    "total_infections(T_actual, map)"
   ]
  },
  {
   "cell_type": "code",
   "execution_count": 95,
   "metadata": {},
   "outputs": [],
   "source": [
    "old_infectionss = np.loadtxt('n_locations.txt')"
   ]
  },
  {
   "cell_type": "code",
   "execution_count": 119,
   "metadata": {},
   "outputs": [
    {
     "data": {
      "text/plain": [
       "[<matplotlib.lines.Line2D at 0x13b1f3b50>]"
      ]
     },
     "execution_count": 119,
     "metadata": {},
     "output_type": "execute_result"
    },
    {
     "data": {
      "image/png": "[encoded data removed]",
      "text/plain": [
       "<Figure size 640x480 with 1 Axes>"
      ]
     },
     "metadata": {},
     "output_type": "display_data"
    }
   ],
   "source": [
    "_infectionss = [total_infections(t, map, progress_bar=False) for t in range(1, 5001)]\n",
    "plt.plot(old_infectionss - _infectionss)"
   ]
  },
  {
   "cell_type": "code",
   "execution_count": 120,
   "metadata": {},
   "outputs": [
    {
     "data": {
      "text/plain": [
       "[<matplotlib.lines.Line2D at 0x14fc70b50>]"
      ]
     },
     "execution_count": 120,
     "metadata": {},
     "output_type": "execute_result"
    },
    {
     "data": {
      "image/png": "[encoded data removed]",
      "text/plain": [
       "<Figure size 640x480 with 1 Axes>"
      ]
     },
     "metadata": {},
     "output_type": "display_data"
    }
   ],
   "source": [
    "plt.plot(np.array(_infectionss_slow) - _infectionss)"
   ]
  },
  {
   "cell_type": "code",
   "execution_count": 121,
   "metadata": {},
   "outputs": [
    {
     "data": {
      "text/plain": [
       "[<matplotlib.lines.Line2D at 0x13abea6d0>]"
      ]
     },
     "execution_count": 121,
     "metadata": {},
     "output_type": "execute_result"
    },
    {
     "data": {
      "image/png": "[encoded data removed]",
      "text/plain": [
       "<Figure size 640x480 with 1 Axes>"
      ]
     },
     "metadata": {},
     "output_type": "display_data"
    }
   ],
   "source": [
    "plt.plot(old_infectionss - _infectionss_slow)"
   ]
  }
 ],
 "metadata": {
  "kernelspec": {
   "display_name": "Python 3",
   "language": "python",
   "name": "python3"
  },
  "language_info": {
   "codemirror_mode": {
    "name": "ipython",
    "version": 3
   },
   "file_extension": ".py",
   "mimetype": "text/x-python",
   "name": "python",
   "nbconvert_exporter": "python",
   "pygments_lexer": "ipython3",
   "version": "3.11.6"
  }
 },
 "nbformat": 4,
 "nbformat_minor": 2
}
